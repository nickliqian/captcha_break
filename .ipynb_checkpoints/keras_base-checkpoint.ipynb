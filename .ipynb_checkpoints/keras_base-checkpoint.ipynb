{
 "cells": [
  {
   "cell_type": "code",
   "execution_count": 3,
   "metadata": {},
   "outputs": [
    {
     "name": "stdout",
     "output_type": "stream",
     "text": [
      "[[1 2]\n",
      " [3 4]]\n",
      "[4 6]\n",
      "[3 7]\n"
     ]
    }
   ],
   "source": [
    "import numpy as np\n",
    "\n",
    "a = np.array([[1,2],[3,4]])\n",
    "\n",
    "print(a)\n",
    "\n",
    "sum0 = np.sum(a, axis=0)\n",
    "sum1 = np.sum(a, axis=1)\n",
    "\n",
    "print(sum0)\n",
    "print(sum1)"
   ]
  },
  {
   "cell_type": "code",
   "execution_count": 11,
   "metadata": {},
   "outputs": [
    {
     "name": "stdout",
     "output_type": "stream",
     "text": [
      "(10, 3)\n",
      "[[ 0.53499078  0.79936251  0.67663415]\n",
      " [ 0.22863342  0.74209297  0.70478964]\n",
      " [ 0.31884922  0.31561791  0.14327345]\n",
      " [ 0.71003069  0.80038203  0.09234357]\n",
      " [ 0.3285251   0.33655364  0.97926326]\n",
      " [ 0.00658785  0.4805875   0.09072751]\n",
      " [ 0.84135949  0.19737287  0.90219995]\n",
      " [ 0.17061654  0.52022247  0.80479789]\n",
      " [ 0.55893092  0.97934417  0.68834005]\n",
      " [ 0.67604523  0.29463695  0.66115909]]\n",
      "[[0]\n",
      " [1]\n",
      " [0]\n",
      " [0]\n",
      " [1]\n",
      " [0]\n",
      " [0]\n",
      " [0]\n",
      " [0]\n",
      " [0]]\n",
      "Epoch 1/10\n",
      "10/10 [==============================] - 0s 44ms/step - loss: 0.6360 - acc: 0.8000\n",
      "Epoch 2/10\n",
      "10/10 [==============================] - 0s 244us/step - loss: 0.6260 - acc: 0.8000\n",
      "Epoch 3/10\n",
      "10/10 [==============================] - 0s 227us/step - loss: 0.6193 - acc: 0.9000\n",
      "Epoch 4/10\n",
      "10/10 [==============================] - 0s 248us/step - loss: 0.6139 - acc: 0.9000\n",
      "Epoch 5/10\n",
      "10/10 [==============================] - 0s 366us/step - loss: 0.6092 - acc: 0.8000\n",
      "Epoch 6/10\n",
      "10/10 [==============================] - 0s 248us/step - loss: 0.6048 - acc: 0.8000\n",
      "Epoch 7/10\n",
      "10/10 [==============================] - 0s 289us/step - loss: 0.6009 - acc: 0.8000\n",
      "Epoch 8/10\n",
      "10/10 [==============================] - 0s 347us/step - loss: 0.5974 - acc: 0.8000\n",
      "Epoch 9/10\n",
      "10/10 [==============================] - 0s 394us/step - loss: 0.5941 - acc: 0.8000\n",
      "Epoch 10/10\n",
      "10/10 [==============================] - 0s 248us/step - loss: 0.5910 - acc: 0.8000\n"
     ]
    },
    {
     "data": {
      "text/plain": [
       "<keras.callbacks.History at 0x29db443f0b8>"
      ]
     },
     "execution_count": 11,
     "metadata": {},
     "output_type": "execute_result"
    }
   ],
   "source": [
    "from keras.models import Sequential\n",
    "from keras.layers import Dense, Activation\n",
    "\n",
    "# For a single-input model with 2 classes (binary classification):\n",
    "\n",
    "model = Sequential()\n",
    "# 输出维度units=32, input_dim=3 初始输入维度\n",
    "model.add(Dense(units=32, activation='relu', input_dim=3))\n",
    "model.add(Dense(1, activation='sigmoid'))\n",
    "model.compile(optimizer='rmsprop',\n",
    "              loss='binary_crossentropy',\n",
    "              metrics=['accuracy'])\n",
    "\n",
    "# Generate dummy data\n",
    "import numpy as np\n",
    "# 前面的参数是height\n",
    "data = np.random.random((10, 3))\n",
    "labels = np.random.randint(2, size=(10, 1))\n",
    "print(data.shape)\n",
    "print(data)\n",
    "print(labels)\n",
    "\n",
    "# Train the model, iterating on the data in batches of 32 samples\n",
    "# data训练集 labels标签 epochs轮训次数\n",
    "model.fit(data, labels, epochs=10, batch_size=32)"
   ]
  },
  {
   "cell_type": "code",
   "execution_count": null,
   "metadata": {},
   "outputs": [],
   "source": []
  }
 ],
 "metadata": {
  "kernelspec": {
   "display_name": "Python 3",
   "language": "python",
   "name": "python3"
  },
  "language_info": {
   "codemirror_mode": {
    "name": "ipython",
    "version": 3
   },
   "file_extension": ".py",
   "mimetype": "text/x-python",
   "name": "python",
   "nbconvert_exporter": "python",
   "pygments_lexer": "ipython3",
   "version": "3.6.0"
  }
 },
 "nbformat": 4,
 "nbformat_minor": 2
}
