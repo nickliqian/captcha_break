{
 "cells": [
  {
   "cell_type": "code",
   "execution_count": 1,
   "metadata": {},
   "outputs": [],
   "source": [
    "#1.读入数据\n",
    "from sklearn.datasets import load_boston\n",
    "#从读取的房价数据存储在boston变量中\n",
    "boston=load_boston()"
   ]
  },
  {
   "cell_type": "code",
   "execution_count": 2,
   "metadata": {},
   "outputs": [
    {
     "name": "stdout",
     "output_type": "stream",
     "text": [
      "Boston House Prices dataset\n",
      "===========================\n",
      "\n",
      "Notes\n",
      "------\n",
      "Data Set Characteristics:  \n",
      "\n",
      "    :Number of Instances: 506 \n",
      "\n",
      "    :Number of Attributes: 13 numeric/categorical predictive\n",
      "    \n",
      "    :Median Value (attribute 14) is usually the target\n",
      "\n",
      "    :Attribute Information (in order):\n",
      "        - CRIM     per capita crime rate by town\n",
      "        - ZN       proportion of residential land zoned for lots over 25,000 sq.ft.\n",
      "        - INDUS    proportion of non-retail business acres per town\n",
      "        - CHAS     Charles River dummy variable (= 1 if tract bounds river; 0 otherwise)\n",
      "        - NOX      nitric oxides concentration (parts per 10 million)\n",
      "        - RM       average number of rooms per dwelling\n",
      "        - AGE      proportion of owner-occupied units built prior to 1940\n",
      "        - DIS      weighted distances to five Boston employment centres\n",
      "        - RAD      index of accessibility to radial highways\n",
      "        - TAX      full-value property-tax rate per $10,000\n",
      "        - PTRATIO  pupil-teacher ratio by town\n",
      "        - B        1000(Bk - 0.63)^2 where Bk is the proportion of blacks by town\n",
      "        - LSTAT    % lower status of the population\n",
      "        - MEDV     Median value of owner-occupied homes in $1000's\n",
      "\n",
      "    :Missing Attribute Values: None\n",
      "\n",
      "    :Creator: Harrison, D. and Rubinfeld, D.L.\n",
      "\n",
      "This is a copy of UCI ML housing dataset.\n",
      "http://archive.ics.uci.edu/ml/datasets/Housing\n",
      "\n",
      "\n",
      "This dataset was taken from the StatLib library which is maintained at Carnegie Mellon University.\n",
      "\n",
      "The Boston house-price data of Harrison, D. and Rubinfeld, D.L. 'Hedonic\n",
      "prices and the demand for clean air', J. Environ. Economics & Management,\n",
      "vol.5, 81-102, 1978.   Used in Belsley, Kuh & Welsch, 'Regression diagnostics\n",
      "...', Wiley, 1980.   N.B. Various transformations are used in the table on\n",
      "pages 244-261 of the latter.\n",
      "\n",
      "The Boston house-price data has been used in many machine learning papers that address regression\n",
      "problems.   \n",
      "     \n",
      "**References**\n",
      "\n",
      "   - Belsley, Kuh & Welsch, 'Regression diagnostics: Identifying Influential Data and Sources of Collinearity', Wiley, 1980. 244-261.\n",
      "   - Quinlan,R. (1993). Combining Instance-Based and Model-Based Learning. In Proceedings on the Tenth International Conference of Machine Learning, 236-243, University of Massachusetts, Amherst. Morgan Kaufmann.\n",
      "   - many more! (see http://archive.ics.uci.edu/ml/datasets/Housing)\n",
      "\n"
     ]
    }
   ],
   "source": [
    "#输出数据描述\n",
    "print(boston.DESCR)"
   ]
  },
  {
   "cell_type": "code",
   "execution_count": 5,
   "metadata": {},
   "outputs": [
    {
     "name": "stderr",
     "output_type": "stream",
     "text": [
      "d:\\pyinstall\\virset\\virpy360set\\tf\\lib\\site-packages\\sklearn\\cross_validation.py:41: DeprecationWarning: This module was deprecated in version 0.18 in favor of the model_selection module into which all the refactored classes and functions are moved. Also note that the interface of the new CV iterators are different from that of this module. This module will be removed in 0.20.\n",
      "  \"This module will be removed in 0.20.\", DeprecationWarning)\n"
     ]
    }
   ],
   "source": [
    "#数据分割\n",
    "from sklearn.cross_validation import train_test_split\n",
    "import numpy as np\n",
    "X=boston.data\n",
    "y=boston.target\n",
    "#随机采样25%的数据构建测试样本，剩余作为训练样本\n",
    "X_train,X_test,y_train,y_test=train_test_split(X,y,random_state=33,test_size=0.25)"
   ]
  },
  {
   "cell_type": "code",
   "execution_count": 17,
   "metadata": {},
   "outputs": [
    {
     "name": "stdout",
     "output_type": "stream",
     "text": [
      "The max target value is 50.0\n",
      "The min target value is 5.0\n",
      "The average target value is 22.5328063241\n"
     ]
    }
   ],
   "source": [
    "#分析回归目标值的差异\n",
    "print(\"The max target value is\",np.max(boston.target))\n",
    "print(\"The min target value is\",np.min(boston.target))\n",
    "print(\"The average target value is\",np.mean(boston.target))"
   ]
  },
  {
   "cell_type": "code",
   "execution_count": 19,
   "metadata": {},
   "outputs": [],
   "source": [
    "#2.数据标准化处理\n",
    "from sklearn.preprocessing import StandardScaler\n",
    "#分别初始化对特征和目标值的标准化器\n",
    "ss_X=StandardScaler()\n",
    "ss_y=StandardScaler()\n",
    "\n",
    "#分别对训练和测试数据的特征以及目标值进行标准化处理\n",
    "X_train=ss_X.fit_transform(X_train)\n",
    "X_test=ss_X.transform(X_test)\n",
    "y_train=ss_y.fit_transform(y_train.reshape(-1,1))\n",
    "y_test=ss_y.transform(y_test.reshape(-1,1))"
   ]
  },
  {
   "cell_type": "code",
   "execution_count": 21,
   "metadata": {},
   "outputs": [
    {
     "name": "stderr",
     "output_type": "stream",
     "text": [
      "d:\\pyinstall\\virset\\virpy360set\\tf\\lib\\site-packages\\sklearn\\linear_model\\stochastic_gradient.py:128: FutureWarning: max_iter and tol parameters have been added in <class 'sklearn.linear_model.stochastic_gradient.SGDRegressor'> in 0.19. If both are left unset, they default to max_iter=5 and tol=None. If tol is not None, max_iter defaults to max_iter=1000. From 0.21, default max_iter will be 1000, and default tol will be 1e-3.\n",
      "  \"and default tol will be 1e-3.\" % type(self), FutureWarning)\n",
      "d:\\pyinstall\\virset\\virpy360set\\tf\\lib\\site-packages\\sklearn\\utils\\validation.py:578: DataConversionWarning: A column-vector y was passed when a 1d array was expected. Please change the shape of y to (n_samples, ), for example using ravel().\n",
      "  y = column_or_1d(y, warn=True)\n"
     ]
    }
   ],
   "source": [
    "#使用线性回归模型LinearRegression和SGDRegressor分别对波士顿房价数据进行训练及预测\n",
    "from sklearn.linear_model import LinearRegression\n",
    "lr=LinearRegression()\n",
    "#使用训练数据进行参数估计\n",
    "lr.fit(X_train,y_train)\n",
    "#回归预测\n",
    "lr_y_predict=lr.predict(X_test)\n",
    "\n",
    "#SGDRegressor\n",
    "from sklearn.linear_model import SGDRegressor\n",
    "#默认配置初始化线性回归器\n",
    "sgdr=SGDRegressor()\n",
    "#使用训练数据进行参数估计\n",
    "sgdr.fit(X_train,y_train)\n",
    "#对测试数据进行回归预测\n",
    "sgdr_y_predict=sgdr.predict(X_test)"
   ]
  },
  {
   "cell_type": "code",
   "execution_count": 22,
   "metadata": {},
   "outputs": [
    {
     "name": "stdout",
     "output_type": "stream",
     "text": [
      "lr_score: 0.6763403831\n",
      "r2_score: 0.6763403831\n",
      "MSE: 25.0969856921\n",
      "MAE: 3.5261239964\n"
     ]
    }
   ],
   "source": [
    "#模型评估\n",
    "#使用LinearRegression模型自带的评估模块，并输出评估结果\n",
    "print(\"lr_score:\",lr.score(X_test,y_test))\n",
    "#R-square,MSE,MAE评估LinearRegression回归性能\n",
    "from sklearn.metrics import r2_score,mean_squared_error,mean_absolute_error\n",
    "#r2_score\n",
    "print(\"r2_score:\",r2_score(y_test,lr_y_predict))\n",
    "#MSE\n",
    "print(\"MSE:\",mean_squared_error(ss_y.inverse_transform(y_test),ss_y.inverse_transform(lr_y_predict)))\n",
    "#MAE\n",
    "print(\"MAE:\",mean_absolute_error(ss_y.inverse_transform(y_test),ss_y.inverse_transform(lr_y_predict)))"
   ]
  },
  {
   "cell_type": "code",
   "execution_count": 23,
   "metadata": {},
   "outputs": [
    {
     "name": "stdout",
     "output_type": "stream",
     "text": [
      "sgdr_score: 0.657236316519\n",
      "r2_score: 0.657236316519\n",
      "MSE: 26.5783397462\n",
      "MAE: 3.55346693673\n"
     ]
    }
   ],
   "source": [
    "#使用LinearRegression模型自带的评估模块，并输出评估结果\n",
    "print(\"sgdr_score:\",sgdr.score(X_test,y_test))\n",
    "#R-square,MSE,MAE评估LinearRegression回归性能\n",
    "from sklearn.metrics import r2_score,mean_squared_error,mean_absolute_error\n",
    "#r2_score\n",
    "print(\"r2_score:\",r2_score(y_test,sgdr_y_predict))\n",
    "#MSE\n",
    "print(\"MSE:\",mean_squared_error(ss_y.inverse_transform(y_test),ss_y.inverse_transform(sgdr_y_predict)))\n",
    "#MAE\n",
    "print(\"MAE:\",mean_absolute_error(ss_y.inverse_transform(y_test),ss_y.inverse_transform(sgdr_y_predict)))"
   ]
  },
  {
   "cell_type": "code",
   "execution_count": 38,
   "metadata": {},
   "outputs": [],
   "source": [
    "r = np.array([[-0.37110656470568637,\n",
    " -0.49635440401231468,\n",
    " 2.1887116481933049,\n",
    " -0.28784916685157141,\n",
    " 0.28736315364508314,\n",
    " -0.47123717413104771,\n",
    " 0.86786681532071708,\n",
    " -0.84267866849059103,\n",
    " -0.83882255540478567,\n",
    " -1.2796226839099092,\n",
    " 0.30760752138803432,\n",
    " 0.16256398690341919,\n",
    " 0.79860058626090991]])"
   ]
  },
  {
   "cell_type": "code",
   "execution_count": 48,
   "metadata": {
    "scrolled": true
   },
   "outputs": [
    {
     "name": "stdout",
     "output_type": "stream",
     "text": [
      "[[-0.28352682]]\n",
      "[ 20.29266241]\n"
     ]
    }
   ],
   "source": [
    "mydata = lr.predict(r)\n",
    "print(mydata)\n",
    "new_data = ss_y.inverse_transform(mydata[0])\n",
    "print(new_data)"
   ]
  },
  {
   "cell_type": "code",
   "execution_count": 50,
   "metadata": {},
   "outputs": [
    {
     "ename": "SyntaxError",
     "evalue": "unexpected EOF while parsing (<ipython-input-50-204b23cb9ab1>, line 1)",
     "output_type": "error",
     "traceback": [
      "\u001b[1;36m  File \u001b[1;32m\"<ipython-input-50-204b23cb9ab1>\"\u001b[1;36m, line \u001b[1;32m1\u001b[0m\n\u001b[1;33m    print(list(boston.data[0])\u001b[0m\n\u001b[1;37m                              ^\u001b[0m\n\u001b[1;31mSyntaxError\u001b[0m\u001b[1;31m:\u001b[0m unexpected EOF while parsing\n"
     ]
    }
   ],
   "source": [
    "print(list(boston.data[0]))"
   ]
  },
  {
   "cell_type": "code",
   "execution_count": 42,
   "metadata": {},
   "outputs": [
    {
     "data": {
      "text/plain": [
       "array([[-0.37110656, -0.4963544 ,  2.18871165, ...,  0.30760752,\n",
       "         0.16256399,  0.79860059],\n",
       "       [ 2.59744395, -0.4963544 ,  1.07488542, ...,  0.81249561,\n",
       "         0.40303963,  2.06756532],\n",
       "       [ 0.45658515, -0.4963544 ,  1.07488542, ...,  0.81249561,\n",
       "        -4.6388946 ,  1.56801812],\n",
       "       ..., \n",
       "       [-0.36954455,  0.78147863, -0.8680406 , ..., -0.83986542,\n",
       "         0.37389106,  0.00477988],\n",
       "       [-0.09109948, -0.4963544 ,  1.29322487, ..., -1.71194485,\n",
       "        -3.53802499,  0.54164958],\n",
       "       [-0.35577315,  0.35553428, -0.56856149, ...,  0.07811293,\n",
       "         0.3246709 , -0.83066975]])"
      ]
     },
     "execution_count": 42,
     "metadata": {},
     "output_type": "execute_result"
    }
   ],
   "source": [
    "X_test"
   ]
  },
  {
   "cell_type": "code",
   "execution_count": null,
   "metadata": {},
   "outputs": [],
   "source": []
  }
 ],
 "metadata": {
  "kernelspec": {
   "display_name": "Python 3",
   "language": "python",
   "name": "python3"
  },
  "language_info": {
   "codemirror_mode": {
    "name": "ipython",
    "version": 3
   },
   "file_extension": ".py",
   "mimetype": "text/x-python",
   "name": "python",
   "nbconvert_exporter": "python",
   "pygments_lexer": "ipython3",
   "version": "3.6.0"
  }
 },
 "nbformat": 4,
 "nbformat_minor": 2
}
